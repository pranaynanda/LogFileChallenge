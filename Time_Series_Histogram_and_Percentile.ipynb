{
  "nbformat": 4,
  "nbformat_minor": 0,
  "metadata": {
    "colab": {
      "name": "Time Series - Histogram and Percentile.ipynb",
      "version": "0.3.2",
      "provenance": [],
      "collapsed_sections": [],
      "toc_visible": true,
      "include_colab_link": true
    },
    "kernelspec": {
      "name": "python3",
      "display_name": "Python 3"
    }
  },
  "cells": [
    {
      "cell_type": "markdown",
      "metadata": {
        "id": "view-in-github",
        "colab_type": "text"
      },
      "source": [
        "[View in Colaboratory](https://colab.research.google.com/github/pranaynanda/LogFileChallenge/blob/master/Time_Series_Histogram_and_Percentile.ipynb)"
      ]
    },
    {
      "metadata": {
        "id": "A8OKiuNVgNMs",
        "colab_type": "text"
      },
      "cell_type": "markdown",
      "source": [
        "# Set Project"
      ]
    },
    {
      "metadata": {
        "id": "INkwAriQbB8G",
        "colab_type": "code",
        "colab": {}
      },
      "cell_type": "code",
      "source": [
        "from google.colab import auth\n",
        "auth.authenticate_user()\n",
        "\n",
        "# https://cloud.google.com/resource-manager/docs/creating-managing-projects\n",
        "project_id = '[your Cloud Platform project ID]'\n",
        "!gcloud config set project bookshelf-1860044"
      ],
      "execution_count": 0,
      "outputs": []
    },
    {
      "metadata": {
        "id": "tPaxc40IgTDH",
        "colab_type": "text"
      },
      "cell_type": "markdown",
      "source": [
        "# Get Files\n",
        "\n",
        "This above part could be removed. I used Google Colaboratory which are basically Google hosted Jupyter notebooks. The code above authenticates my GCP console to the notebook. I could make the files publically available either to all users or all Google authenticated users which would eliminate the need to autheticate or set project. \n",
        "\n",
        "\n",
        "---\n",
        "\n",
        "\n",
        "The code below could also be removed if we directly provide the file names. I did not want to copy them in the temporary instance over and over again."
      ]
    },
    {
      "metadata": {
        "id": "CIhCmGUabB9V",
        "colab_type": "code",
        "colab": {}
      },
      "cell_type": "code",
      "source": [
        "# Download the file from a given Google Cloud Storage bucket.\n",
        "!gsutil cp gs://ihopeitworks/* .\n",
        "  \n",
        "# Print the result to make sure the transfer worked.\n",
        "#!cat /tmp/gsutil_download.txt"
      ],
      "execution_count": 0,
      "outputs": []
    },
    {
      "metadata": {
        "id": "GR7_fH-6DV4X",
        "colab_type": "text"
      },
      "cell_type": "markdown",
      "source": [
        "# Import Packages"
      ]
    },
    {
      "metadata": {
        "id": "jXnVNyzAYKE7",
        "colab_type": "code",
        "colab": {}
      },
      "cell_type": "code",
      "source": [
        "import re\n",
        "import pandas as pd\n",
        "import numpy as np\n",
        "from datetime import datetime"
      ],
      "execution_count": 0,
      "outputs": []
    },
    {
      "metadata": {
        "id": "3JvTOA6IDg1b",
        "colab_type": "text"
      },
      "cell_type": "markdown",
      "source": [
        "# Open File in Read mode"
      ]
    },
    {
      "metadata": {
        "id": "S-AvdSgPYNJY",
        "colab_type": "code",
        "colab": {}
      },
      "cell_type": "code",
      "source": [
        "x = open('out.log', 'r')"
      ],
      "execution_count": 0,
      "outputs": []
    },
    {
      "metadata": {
        "id": "lljXup8jeutQ",
        "colab_type": "text"
      },
      "cell_type": "markdown",
      "source": [
        "# Define regex\n",
        "\n",
        "I used regex the Splunk way. Splunk would run regex through each line of the input and then extract fields and values.\n",
        "\n",
        "Not that Splunk does not work well with delimited data and although, our data is delimited to some extent, we run into the trouble of stripping braces and grouping separated words as error messages."
      ]
    },
    {
      "metadata": {
        "id": "mI12anCuep47",
        "colab_type": "code",
        "colab": {}
      },
      "cell_type": "code",
      "source": [
        "regex=\"^((\\d{4}-\\d{2}-\\d{2})\\s(\\d{2}:\\d{2}:\\d{2}\\.\\d+))\\s\\[PID (\\d+)\\]\\s\\[(\\d+)\\w{2}\\]\\s\\[UID (\\w+)\\]\\s\\[(\\w+)\\]\\s(\\/\\w+)(.*Error name: (\\w.+))?(.*)$\""
      ],
      "execution_count": 0,
      "outputs": []
    },
    {
      "metadata": {
        "id": "Qn1ciqy7Dn3J",
        "colab_type": "text"
      },
      "cell_type": "markdown",
      "source": [
        "# Run Regex\n",
        "\n",
        "`re.findall()` gives us a list of tuples if the strings match. It also gives us match groups. The `regex_read` value stores a list of tuples. We extract values from the tuples and create a list of values of a particular field type."
      ]
    },
    {
      "metadata": {
        "id": "hn6nA8BogAYc",
        "colab_type": "code",
        "colab": {}
      },
      "cell_type": "code",
      "source": [
        "regex_read = re.findall(regex, x.read(), re.MULTILINE)\n",
        "\n",
        "# The regex_read value is a list of tuples. Although, I could have created a list of lists here or even a numpy map, \n",
        "# I chose to extract them seperately for readability, \n",
        "\n",
        "timestamps = [datetime.strptime(match[0], \"%Y-%m-%d %H:%M:%S.%f\") for match in regex_read] # creating lists from the first tuple from the list 'regex_read' and then converting it into datetime values\n",
        "date = [match[1] for match in regex_read]\n",
        "time = [match[2] for match in regex_read]\n",
        "pid = [match[3] for match in regex_read]\n",
        "response_time_in_ms = [int(match[4]) for match in regex_read]\n",
        "uid = [match[5] for match in regex_read]\n",
        "log_level = [match[6] for match in regex_read]\n",
        "url = [match[7] for match in regex_read]\n",
        "error_message = [match[8] for match in regex_read]\n",
        "error_type = [match[9] for match in regex_read]\n",
        "message = [match[10] for match in regex_read]\n",
        "\n"
      ],
      "execution_count": 0,
      "outputs": []
    },
    {
      "metadata": {
        "id": "Q2UuGmGQErbo",
        "colab_type": "text"
      },
      "cell_type": "markdown",
      "source": [
        "# Create Dataframe"
      ]
    },
    {
      "metadata": {
        "id": "Lut2mjscmZob",
        "colab_type": "code",
        "colab": {}
      },
      "cell_type": "code",
      "source": [
        "#Create DataFrame called logfile with series names that pull values from lists that were extracted above\n",
        "\n",
        "logfile=pd.DataFrame({'Timestamp': timestamps,\n",
        "                       'PID': pid,\n",
        "                       'Response Time': response_time_in_ms,\n",
        "                       'UID': uid,\n",
        "                       'Log Level': log_level,\n",
        "                       'URL': url,\n",
        "                       'Error Message': error_message,\n",
        "                       'Error Type': error_type,\n",
        "                       'Message': message})\n",
        "\n",
        "#The regex isn't as neat as I would like it to be. Therefore there are values in list that were captured as empty from the log data \n",
        "# We replace the empty values with np.nan value from numpy\n",
        "\n",
        "logfile=logfile.replace('', np.nan)\n",
        "\n",
        "\n",
        "#We check datatypes to be sure that they are as needed.\n",
        "\n",
        "logfile.dtypes"
      ],
      "execution_count": 0,
      "outputs": []
    },
    {
      "metadata": {
        "id": "1xvgphLhIUaD",
        "colab_type": "text"
      },
      "cell_type": "markdown",
      "source": [
        "# Extract Histogram for the Given dates\n",
        "Because the data is such that the last row has the earliest timestamp, we start the series from bottom and create a date_time index with the values that have an interval frequency of seconds.\n",
        "\n",
        "In my experience with the monitoring tools as an SRE, there often isn't enough information at the microsecond scale. Seconds does the job."
      ]
    },
    {
      "metadata": {
        "id": "-IWt4F3qsvWH",
        "colab_type": "code",
        "colab": {}
      },
      "cell_type": "code",
      "source": [
        "#Converting values to datetime again for redundancy\n",
        "logfile['Timestamp'] = pd.to_datetime(logfile['Timestamp'])\n",
        "\n",
        "# We could also create a function here\n",
        "\n",
        "start_time='2018-08-30 16:02:25.846066'\n",
        "end_time='2018-08-30 17:12:28.846066'\n",
        "\n",
        "#Make a date_range with frequency in seconds. \n",
        "logfile['Timestamp'] = pd.date_range(start=logfile['Timestamp'].iloc[-1], end=logfile['Timestamp'].iloc[0],freq='S')\n",
        "\n",
        "#Create a new logfile dataframe that contains the values where the timestamp is between specified range.\n",
        "logfile=logfile[(logfile['Timestamp'] > start_time) & (logfile['Timestamp'] <= end_time)] \n",
        "\n",
        "#Output histogram\n",
        "logfile['Error Message'].hist()\n"
      ],
      "execution_count": 0,
      "outputs": []
    },
    {
      "metadata": {
        "id": "ZeXEa_T8IbKr",
        "colab_type": "text"
      },
      "cell_type": "markdown",
      "source": [
        "# Extract Percentile of error messages for given dates\n",
        "\n",
        "The new data frame created above is also used here. We did not capture the log trace messages. Therefore we drop the messages that contain the values `np.nan` which would then only show values for successful responses. Then pass it to the `.describe()` function for percentiles. \n",
        "\n",
        "Because response time is the only integer value in the entire dataframe, we only get percentiles for response time. \n",
        "\n",
        "*PID and UID may be numbers but they are contextual and not arithemetic. *\n",
        "\n",
        "\n",
        "\n",
        "---\n",
        "\n",
        "\n",
        "\n",
        "We could also use the `.quantile()` function. For simplicity, I used `.describe()`. "
      ]
    },
    {
      "metadata": {
        "id": "Y5mWyskFqoun",
        "colab_type": "code",
        "colab": {}
      },
      "cell_type": "code",
      "source": [
        "logfile.dropna(subset=['Message']).describe(percentiles=[0.50,0.90,0.95])"
      ],
      "execution_count": 0,
      "outputs": []
    }
  ]
}